{
 "cells": [
  {
   "cell_type": "code",
   "execution_count": null,
   "id": "450d0aa4-3d10-4ac6-a762-623fdfedadf7",
   "metadata": {},
   "outputs": [],
   "source": [
    "import numpy as np\n",
    "import json\n",
    "with open(\"neat_quality_score_model.json\") as f:\n",
    "    j = json.load(f)\n",
    "j.keys()"
   ]
  },
  {
   "cell_type": "code",
   "execution_count": null,
   "id": "d4607e46-5b0f-436a-bf3f-cc554da198a7",
   "metadata": {},
   "outputs": [],
   "source": [
    "w = np.array(j['weights_from_one'])\n",
    "print(w.shape)"
   ]
  },
  {
   "cell_type": "code",
   "execution_count": null,
   "id": "2b246561-560a-4650-91c3-a06a5dc49b34",
   "metadata": {},
   "outputs": [],
   "source": [
    "print(np.array(j['assumed_read_length']))\n",
    "print(np.array(j['quality_score_options']))\n",
    "s = np.array(j['seed_weights'])\n",
    "print(s)"
   ]
  },
  {
   "cell_type": "code",
   "execution_count": null,
   "id": "1bf0f2ce-595e-42bc-adae-10eaf84bffe9",
   "metadata": {},
   "outputs": [],
   "source": [
    "import matplotlib.pyplot as plt\n",
    "plt.plot(s)\n",
    "plt.yscale('log')"
   ]
  },
  {
   "cell_type": "code",
   "execution_count": null,
   "id": "638d04a2-4dc0-45e6-aae6-9615248ad3fa",
   "metadata": {},
   "outputs": [],
   "source": [
    "w = np.array(j['weights_from_one'])\n",
    "np.set_printoptions(linewidth=500)\n",
    "w[0][:10,:20]"
   ]
  },
  {
   "cell_type": "code",
   "execution_count": null,
   "id": "a1709c1f-4348-493f-acfe-f07b8ca81edf",
   "metadata": {},
   "outputs": [],
   "source": [
    "# Plotting 100 images\n",
    "fig, axes = plt.subplots(10, 10, figsize=(10, 10))\n",
    "for i, ax in enumerate(axes.flat):\n",
    "    ax.imshow(w[i], cmap='Reds')  # Adjust cmap if needed\n",
    "    ax.axis('off')\n",
    "\n",
    "plt.tight_layout()\n",
    "plt.show()"
   ]
  },
  {
   "cell_type": "code",
   "execution_count": null,
   "id": "b0c6821e-77b6-499d-9367-9adb1ac40749",
   "metadata": {},
   "outputs": [],
   "source": [
    "see = s/s.sum()\n",
    "see"
   ]
  },
  {
   "cell_type": "code",
   "execution_count": null,
   "id": "423a43c7-706e-48e1-bfd7-5bc3a26a4d58",
   "metadata": {},
   "outputs": [],
   "source": [
    "# set 0 as sink state\n",
    "w[:,0,0] = 1\n",
    "w[:,39:42,0] = 1"
   ]
  },
  {
   "cell_type": "code",
   "execution_count": null,
   "id": "480975f6-5ef3-4b11-aa59-cdd81ef65e64",
   "metadata": {},
   "outputs": [],
   "source": [
    "w.sum(axis=(0,2))"
   ]
  },
  {
   "cell_type": "code",
   "execution_count": null,
   "id": "bab6f061-0ba3-4f2c-93fa-1ea086f750ba",
   "metadata": {},
   "outputs": [],
   "source": [
    "wei = w.astype(np.float64)  # Convert to double floats\n",
    "wei /= wei.sum(axis=2, keepdims=True)  # Normalize each row"
   ]
  },
  {
   "cell_type": "code",
   "execution_count": null,
   "id": "5f7ed7c8-f6f3-4c3b-8b06-95e30eac013a",
   "metadata": {},
   "outputs": [],
   "source": [
    "d = dict()\n",
    "d['seeds'] = see.tolist()\n",
    "d['weights'] = wei.tolist()"
   ]
  },
  {
   "cell_type": "code",
   "execution_count": null,
   "id": "99aa84d6-2c52-4568-8e81-c34370d9e4a3",
   "metadata": {},
   "outputs": [],
   "source": [
    "with open(\"qs_model.json\", \"w\") as f:\n",
    "    json.dump(d, f)"
   ]
  },
  {
   "cell_type": "code",
   "execution_count": null,
   "id": "ec3d626e-9d9f-4cec-af20-08e5bc339a3a",
   "metadata": {},
   "outputs": [],
   "source": []
  }
 ],
 "metadata": {
  "kernelspec": {
   "display_name": "Python 3 (ipykernel)",
   "language": "python",
   "name": "python3"
  },
  "language_info": {
   "codemirror_mode": {
    "name": "ipython",
    "version": 3
   },
   "file_extension": ".py",
   "mimetype": "text/x-python",
   "name": "python",
   "nbconvert_exporter": "python",
   "pygments_lexer": "ipython3",
   "version": "3.13.2"
  }
 },
 "nbformat": 4,
 "nbformat_minor": 5
}
